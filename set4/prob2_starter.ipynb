{
  "cells": [
    {
      "cell_type": "markdown",
      "metadata": {
        "colab_type": "text",
        "id": "view-in-github"
      },
      "source": [
        "<a href=\"https://colab.research.google.com/github/emiletimothy/Caltech-CS155-2023/blob/main/set4/prob2_starter.ipynb\" target=\"_parent\"><img src=\"https://colab.research.google.com/assets/colab-badge.svg\" alt=\"Open In Colab\"/></a>"
      ]
    },
    {
      "cell_type": "code",
      "execution_count": 7,
      "metadata": {
        "id": "0fzZb8grE78U"
      },
      "outputs": [],
      "source": [
        "import torch\n",
        "import torch.nn as nn\n",
        "import torch.nn.functional as F\n",
        "from torch.utils.data import TensorDataset, DataLoader\n",
        "import torchvision\n",
        "import numpy as np\n",
        "import pandas as pd\n",
        "import seaborn as sns"
      ]
    },
    {
      "cell_type": "code",
      "execution_count": 10,
      "metadata": {},
      "outputs": [
        {
          "name": "stdout",
          "output_type": "stream",
          "text": [
            "1.13.1+cu116\n",
            "0.14.1+cu116\n"
          ]
        }
      ],
      "source": [
        "print(torch.__version__)\n",
        "print(torchvision.__version__)"
      ]
    },
    {
      "cell_type": "markdown",
      "metadata": {
        "id": "VvPFMow_NNry"
      },
      "source": [
        "# Part A: Data Setup"
      ]
    },
    {
      "cell_type": "code",
      "execution_count": 53,
      "metadata": {
        "id": "7m_kQfspQJNf"
      },
      "outputs": [
        {
          "name": "stdout",
          "output_type": "stream",
          "text": [
            "(259715, 24) (259715, 1)\n"
          ]
        }
      ],
      "source": [
        "# data preprocessing\n",
        "df = pd.read_csv(\"data/COVID-19_Case_Surveillance_Public_Use_Data_Subset.csv\")\n",
        "\n",
        "# Get rid of rows where death_yn isn't Yes or No\n",
        "df = df[df[\"death_yn\"].isin([\"Yes\", \"No\"])]\n",
        "\n",
        "# Make X of features converted into numbers, using one-hot encoding\n",
        "X = np.column_stack([\n",
        "    (df['sex'] == \"Male\").astype(int),\n",
        "    (df[\"current_status\"] == \"Laboratory-confirmed case\").astype(int),\n",
        "    pd.get_dummies(df[\"age_group\"]),\n",
        "    pd.get_dummies(df[\"race_ethnicity_combined\"]),\n",
        "    (df[\"hosp_yn\"] == \"Yes\").astype(int),\n",
        "    (df[\"icu_yn\"] == \"Yes\").astype(int),\n",
        "    (df[\"medcond_yn\"] == \"Yes\").astype(int),\n",
        "])\n",
        "\n",
        "# Make Y of death_yn converted to 0 or 1\n",
        "Y = np.column_stack([(df[\"death_yn\"] == \"Yes\").astype(int)])\n",
        "\n",
        "print(X.shape, Y.shape)"
      ]
    },
    {
      "cell_type": "code",
      "execution_count": 54,
      "metadata": {
        "id": "3Wn-AQp6FDpM"
      },
      "outputs": [],
      "source": [
        "# Use 80% of data for training, 20% for testing\n",
        "train_cutoff = int(len(X) * 0.8)\n",
        "\n",
        "train_X = torch.tensor(X[:train_cutoff], dtype=torch.float32)\n",
        "train_y = torch.tensor(Y[:train_cutoff], dtype=torch.float32)\n",
        "\n",
        "test_X = torch.tensor(X[train_cutoff:], dtype=torch.float32)\n",
        "test_y = torch.tensor(Y[train_cutoff:], dtype=torch.float32)\n",
        "\n",
        "\n",
        "# make datasets and dataloaders\n",
        "\n",
        "train_dataset = TensorDataset(train_X, train_y)\n",
        "test_dataset = TensorDataset(test_X, test_y)\n",
        "\n",
        "train_loader = torch.utils.data.DataLoader(train_dataset, batch_size=32, shuffle=True)\n",
        "test_loader = torch.utils.data.DataLoader(test_dataset, batch_size=32, shuffle=True) \n"
      ]
    },
    {
      "cell_type": "markdown",
      "metadata": {
        "id": "Ccx89l3btfq4"
      },
      "source": [
        "# Part B: Linear Neural Network"
      ]
    },
    {
      "cell_type": "markdown",
      "metadata": {
        "id": "aICcIvNtNGk2"
      },
      "source": [
        "## Model Setup"
      ]
    },
    {
      "cell_type": "code",
      "execution_count": 93,
      "metadata": {
        "id": "qtMSBKxdFfjq"
      },
      "outputs": [],
      "source": [
        "# TODO: Make your model, optmizer, and loss function here.\n",
        "\n",
        "model = nn.Sequential(\n",
        "    nn.Linear(X.shape[1], 5),\n",
        "    nn.Linear(5, 1),\n",
        "    nn.Sigmoid()\n",
        ")\n",
        "\n",
        "optimizer = torch.optim.Adam(model.parameters(), lr=0.01)\n",
        "loss_fn = nn.BCELoss()"
      ]
    },
    {
      "cell_type": "markdown",
      "metadata": {
        "id": "uKl5Tm2TNXxc"
      },
      "source": [
        "## Training Loop"
      ]
    },
    {
      "cell_type": "code",
      "execution_count": 94,
      "metadata": {
        "id": "z-RVMsj0NaN7"
      },
      "outputs": [],
      "source": [
        "# Some layers, such as Dropout, behave differently during training\n",
        "\n",
        "model.train()\n",
        "\n",
        "for epoch in range(1):\n",
        "    for batch_idx, (data, target) in enumerate(train_loader):\n",
        "        optimizer.zero_grad()\n",
        "        output = model(data)\n",
        "        loss = loss_fn(output, target)\n",
        "        loss.backward()\n",
        "        optimizer.step()"
      ]
    },
    {
      "cell_type": "markdown",
      "metadata": {
        "id": "YZCNGh5mNbE0"
      },
      "source": [
        "## Testing Loop"
      ]
    },
    {
      "cell_type": "code",
      "execution_count": 99,
      "metadata": {
        "colab": {
          "base_uri": "https://localhost:8080/"
        },
        "id": "2SxnJ3eHNfgb",
        "outputId": "f72930fa-b984-4512-9402-fe0eb29c7ee7"
      },
      "outputs": [
        {
          "name": "stdout",
          "output_type": "stream",
          "text": [
            "Train loss: 0.0023, Accuracy: 202487/207772 (97%)\n",
            "Test loss: 0.0024, Accuracy: 50567/51943 (97%)\n"
          ]
        }
      ],
      "source": [
        "# Putting layers like Dropout into evaluation mode\n",
        "model.eval()\n",
        "\n",
        "train_loss = 0\n",
        "correct = 0\n",
        "\n",
        "with torch.no_grad():\n",
        "    for data, target in train_loader:\n",
        "        output = model(data)\n",
        "        train_loss += loss_fn(output, target).item()\n",
        "        pred = output.round()\n",
        "        correct += pred.eq(target.view_as(pred)).sum().item()\n",
        "\n",
        "train_loss /= len(train_loader.dataset)\n",
        "\n",
        "print(f\"Train loss: {train_loss:.4f}, Accuracy: {correct}/{len(train_loader.dataset)} ({100. * correct / len(train_loader.dataset):.0f}%)\")\n",
        "\n",
        "test_loss = 0\n",
        "correct = 0\n",
        "\n",
        "with torch.no_grad():\n",
        "    for data, target in test_loader:\n",
        "        output = model(data)\n",
        "        test_loss += loss_fn(output, target).item()\n",
        "        pred = output.round()\n",
        "        correct += pred.eq(target.view_as(pred)).sum().item()\n",
        "\n",
        "test_loss /= len(test_loader.dataset)\n",
        "\n",
        "print(f\"Test loss: {test_loss:.4f}, Accuracy: {correct}/{len(test_loader.dataset)} ({100. * correct / len(test_loader.dataset):.0f}%)\")"
      ]
    },
    {
      "cell_type": "markdown",
      "metadata": {
        "id": "sf9UHC-kZ25f"
      },
      "source": [
        "## Weight Matrix Visualization"
      ]
    },
    {
      "cell_type": "code",
      "execution_count": 90,
      "metadata": {
        "id": "aBXDC10mRNto"
      },
      "outputs": [
        {
          "data": {
            "text/plain": [
              "<AxesSubplot:>"
            ]
          },
          "execution_count": 90,
          "metadata": {},
          "output_type": "execute_result"
        },
        {
          "data": {
            "image/png": "[encoded data removed]",
            "text/plain": [
              "<Figure size 432x288 with 2 Axes>"
            ]
          },
          "metadata": {
            "needs_background": "light"
          },
          "output_type": "display_data"
        }
      ],
      "source": [
        "weights = model.state_dict()['0.weight']\n",
        "\n",
        "sns.heatmap(weights)"
      ]
    },
    {
      "cell_type": "markdown",
      "metadata": {
        "id": "91H6-NUVZ8Gd"
      },
      "source": [
        "# Part C: 2-Layer Linear Model"
      ]
    },
    {
      "cell_type": "code",
      "execution_count": 92,
      "metadata": {
        "id": "SUd6CAB-WebM"
      },
      "outputs": [
        {
          "name": "stdout",
          "output_type": "stream",
          "text": [
            "Training\n",
            "Testing\n",
            "Train loss: 0.0023, Accuracy: 202497/207772 (97%)\n",
            "Test loss: 0.0024, Accuracy: 50560/51943 (97%)\n"
          ]
        }
      ],
      "source": [
        "# TODO: Repeat for 2-layer model\n",
        "model = nn.Sequential(\n",
        "    nn.Linear(X.shape[1], 5),\n",
        "    nn.Linear(5, 5),\n",
        "    nn.Linear(5, 1),\n",
        "    nn.Sigmoid()\n",
        ")\n",
        "\n",
        "optimizer = torch.optim.Adam(model.parameters(), lr=0.01)\n",
        "loss_fn = nn.BCELoss()\n",
        "\n",
        "print(\"Training\")\n",
        "model.train()\n",
        "\n",
        "for epoch in range(1):\n",
        "    for batch_idx, (data, target) in enumerate(train_loader):\n",
        "        optimizer.zero_grad()\n",
        "        output = model(data)\n",
        "        loss = loss_fn(output, target)\n",
        "        loss.backward()\n",
        "        optimizer.step()\n",
        "\n",
        "print(\"Testing\")\n",
        "model.eval()\n",
        "\n",
        "train_loss = 0\n",
        "correct = 0\n",
        "\n",
        "with torch.no_grad():\n",
        "    for data, target in train_loader:\n",
        "        output = model(data)\n",
        "        train_loss += loss_fn(output, target).item()\n",
        "        pred = output.round()\n",
        "        correct += pred.eq(target.view_as(pred)).sum().item()\n",
        "\n",
        "train_loss /= len(train_loader.dataset)\n",
        "\n",
        "print(f\"Train loss: {train_loss:.4f}, Accuracy: {correct}/{len(train_loader.dataset)} ({100. * correct / len(train_loader.dataset):.0f}%)\")\n",
        "\n",
        "test_loss = 0\n",
        "correct = 0\n",
        "\n",
        "with torch.no_grad():\n",
        "    for data, target in test_loader:\n",
        "        output = model(data)\n",
        "        test_loss += loss_fn(output, target).item()\n",
        "        pred = output.round()\n",
        "        correct += pred.eq(target.view_as(pred)).sum().item()\n",
        "\n",
        "test_loss /= len(test_loader.dataset)\n",
        "\n",
        "print(f\"Test loss: {test_loss:.4f}, Accuracy: {correct}/{len(test_loader.dataset)} ({100. * correct / len(test_loader.dataset):.0f}%)\")"
      ]
    },
    {
      "cell_type": "code",
      "execution_count": null,
      "metadata": {},
      "outputs": [],
      "source": []
    }
  ],
  "metadata": {
    "colab": {
      "include_colab_link": true,
      "provenance": []
    },
    "kernelspec": {
      "display_name": "Python 3",
      "language": "python",
      "name": "python3"
    },
    "language_info": {
      "codemirror_mode": {
        "name": "ipython",
        "version": 3
      },
      "file_extension": ".py",
      "mimetype": "text/x-python",
      "name": "python",
      "nbconvert_exporter": "python",
      "pygments_lexer": "ipython3",
      "version": "3.10.7"
    },
    "vscode": {
      "interpreter": {
        "hash": "05d561ddbcef89c58b82dd2e50a760bb501c2274df6b1a18af242d8836411bb5"
      }
    }
  },
  "nbformat": 4,
  "nbformat_minor": 0
}
